{
 "cells": [
  {
   "cell_type": "markdown",
   "id": "fc31e53b-febe-4cd6-b47e-5f17fddcef59",
   "metadata": {},
   "source": [
    "# Text Summarization and Document Based Question Answering System with OpenAI's GPT-3 using LangChain."
   ]
  },
  {
   "cell_type": "markdown",
   "id": "b0d9c0e2-3d80-4299-8ee6-4c63bc7cc75e",
   "metadata": {
    "tags": []
   },
   "source": [
    "## Relevant Libraries"
   ]
  },
  {
   "cell_type": "code",
   "execution_count": 1,
   "id": "89599627-1032-4c72-ad85-b5903f8ba9ce",
   "metadata": {},
   "outputs": [],
   "source": [
    "import openai\n",
    "from langchain.document_loaders import PyPDFLoader\n",
    "from langchain.document_loaders import WebBaseLoader\n",
    "from langchain.text_splitter import RecursiveCharacterTextSplitter\n",
    "from langchain.embeddings.openai import OpenAIEmbeddings\n",
    "from langchain.vectorstores import Chroma\n",
    "from langchain.chat_models import ChatOpenAI\n",
    "from langchain.memory import ConversationBufferMemory\n",
    "import ast\n",
    "from langchain.chains import RetrievalQA"
   ]
  },
  {
   "cell_type": "code",
   "execution_count": 2,
   "id": "923ecac5-e4ca-4472-a7c3-c95d00dc8abc",
   "metadata": {},
   "outputs": [],
   "source": [
    "# Get API key\n",
    "with open('api_key.txt') as f:\n",
    "    api_key = f.readline()"
   ]
  },
  {
   "cell_type": "markdown",
   "id": "ddb8d773-c3cf-46bf-bdd4-e88fa403c646",
   "metadata": {
    "tags": []
   },
   "source": [
    "## Load data into an LLM compatible format"
   ]
  },
  {
   "cell_type": "markdown",
   "id": "b978cf0f-cf48-43b2-855b-2de4c81e17d5",
   "metadata": {
    "tags": []
   },
   "source": [
    "### Load Pdf data with Langchain"
   ]
  },
  {
   "cell_type": "code",
   "execution_count": 3,
   "id": "5cecfa79-56eb-46da-9d0f-1e9122b1faed",
   "metadata": {},
   "outputs": [],
   "source": [
    "loader = PyPDFLoader(\"pdf_data/Big Data Applications in Industry.pdf\")\n",
    "pages = loader.load()"
   ]
  },
  {
   "cell_type": "code",
   "execution_count": 4,
   "id": "417fd5cb-eb5c-40bd-9b45-076815b46dcb",
   "metadata": {},
   "outputs": [
    {
     "data": {
      "text/plain": [
       "89"
      ]
     },
     "execution_count": 4,
     "metadata": {},
     "output_type": "execute_result"
    }
   ],
   "source": [
    "len(pages)"
   ]
  },
  {
   "cell_type": "code",
   "execution_count": 5,
   "id": "746656fd-4411-4196-8502-453d667c6fa6",
   "metadata": {},
   "outputs": [],
   "source": [
    "page = pages[0]"
   ]
  },
  {
   "cell_type": "code",
   "execution_count": 6,
   "id": "ee7424cf-7bf4-4a90-8833-f7092fd3a194",
   "metadata": {},
   "outputs": [
    {
     "name": "stdout",
     "output_type": "stream",
     "text": [
      "See discussions, st ats, and author pr ofiles f or this public ation at : https://www .researchgate.\n"
     ]
    }
   ],
   "source": [
    "# Print the first 100 characters\n",
    "print(page.page_content[0:100])"
   ]
  },
  {
   "cell_type": "code",
   "execution_count": 7,
   "id": "927c7435-5ffc-4baf-9465-d3a1af241cc7",
   "metadata": {},
   "outputs": [
    {
     "name": "stdout",
     "output_type": "stream",
     "text": [
      "page_content='See discussions, st ats, and author pr ofiles f or this public ation at : https://www .researchgate.ne t/public ation/357264007\\nRole of Big Data Analytics in the Financial Service Sector\\nChapt er · Dec ember 2021\\nDOI: 10.1201/9781003175889-9\\nCITATIONS\\n0READS\\n1,342\\n2 author s, including:\\nSome o f the author s of this public ation ar e also w orking on these r elat ed pr ojects:\\nhuman r esour ce de velopment  View pr oject\\nENTREPRENEUR SHIP  View pr oject\\nRamanujam V eluchamy\\nBhar athiar Univ ersity\\n98 PUBLICA TIONS \\xa0\\xa0\\xa083 CITATIONS \\xa0\\xa0\\xa0\\nSEE PROFILE\\nAll c ontent f ollo wing this p age was uplo aded b y Ramanujam V eluchamy  on 07 F ebruar y 2022.\\nThe user has r equest ed enhanc ement of the do wnlo aded file.' metadata={'source': 'pdf_data/Big Data Applications in Industry.pdf', 'page': 0}\n"
     ]
    }
   ],
   "source": [
    "# Print entire page content\n",
    "print(page)"
   ]
  },
  {
   "cell_type": "code",
   "execution_count": 8,
   "id": "a4f8c8bd-831d-42ac-a901-c7c679eeaf76",
   "metadata": {},
   "outputs": [
    {
     "data": {
      "text/plain": [
       "{'source': 'pdf_data/Big Data Applications in Industry.pdf', 'page': 0}"
      ]
     },
     "execution_count": 8,
     "metadata": {},
     "output_type": "execute_result"
    }
   ],
   "source": [
    "# Print page metadata\n",
    "page.metadata"
   ]
  },
  {
   "cell_type": "code",
   "execution_count": null,
   "id": "638c774d-ad3e-4f43-b37c-f74e7c0ce7da",
   "metadata": {},
   "outputs": [],
   "source": []
  },
  {
   "cell_type": "markdown",
   "id": "7591a6f4-935b-475e-bad0-818ba6718129",
   "metadata": {
    "tags": []
   },
   "source": [
    "### Load url data with Langchain"
   ]
  },
  {
   "cell_type": "code",
   "execution_count": 9,
   "id": "ef62bf32-a818-4f89-8589-1805a76ffe69",
   "metadata": {},
   "outputs": [],
   "source": [
    "# Use the WebBaseLoader class to load the URL data\n",
    "# Create an instance of the WebBaseLoader class with the relevant URL\n",
    "loader = WebBaseLoader(\"https://www.simplilearn.com/tutorials/big-data-tutorial/big-data-applications\")"
   ]
  },
  {
   "cell_type": "code",
   "execution_count": 10,
   "id": "44e5edb2-13ac-4c41-bced-0185bbe6d7cb",
   "metadata": {},
   "outputs": [],
   "source": [
    "docs = loader.load()"
   ]
  },
  {
   "cell_type": "code",
   "execution_count": 11,
   "id": "542d8efb-8f41-454f-b57a-035a5096b3bd",
   "metadata": {},
   "outputs": [
    {
     "name": "stdout",
     "output_type": "stream",
     "text": [
      "\n",
      "\n",
      "\n",
      "\n",
      "\n",
      "\n",
      "\n",
      "14 Big Data Examples & Applications Across Industries\n",
      "\n",
      "\n",
      "\n",
      "\n",
      "\n",
      "\n",
      "\n",
      "\n",
      "\n",
      "\n",
      "\n",
      "\n",
      "\n",
      "\n",
      "\n",
      "\n",
      "\n",
      "\n",
      "\n",
      "\n",
      "\n",
      "\n",
      "\n",
      "\n",
      "\n",
      "\n",
      "\n",
      "\n",
      "\n",
      "\n",
      "\n",
      "\n",
      "\n",
      "\n",
      "\n",
      "\n",
      "\n",
      "\n",
      "\n",
      "\n",
      "\n",
      "\n",
      "\n",
      "\n",
      "\n",
      "\n",
      "\n",
      "\n",
      "\n",
      "\n",
      "\n",
      "\n",
      "\n",
      "All CoursesAll Courses Log inBig DataData Science & Business AnalyticsAI & Machine LearningProject ManagementCyber SecurityCloud ComputingDevOpsBusiness and LeadershipQuality ManagementSoftware DevelopmentAgile and ScrumIT Service and ArchitectureDigital MarketingBig DataCareer Fast-trackEnterpriseOther SegmentsTutorialsArticlesEbooksFree Practice TestsOn-demand WebinarsLive Webinars\n"
     ]
    }
   ],
   "source": [
    "# print first 500 characters\n",
    "print(docs[0].page_content[:500])"
   ]
  },
  {
   "cell_type": "markdown",
   "id": "0e4cb0e0-dfab-46af-b72e-d02a66686804",
   "metadata": {
    "tags": []
   },
   "source": [
    "### Load data resources"
   ]
  },
  {
   "cell_type": "code",
   "execution_count": 12,
   "id": "fbbf5d83-d262-4f98-8c1b-a2a1369b67eb",
   "metadata": {},
   "outputs": [],
   "source": [
    "# Create a list of loaders to load different types of resources(pdf, url)\n",
    "loaders = [\n",
    "    # Load a PDF document using PyPDFLoader\n",
    "    PyPDFLoader(\"pdf_data/Big Data Applications in Industry.pdf\"),\n",
    "    \n",
    "    # Load content from a URL using WebBaseLoader\n",
    "    WebBaseLoader(\"https://www.simplilearn.com/tutorials/big-data-tutorial/big-data-applications\")\n",
    "]\n",
    "\n",
    "# Create an empty list to store the loaded documents\n",
    "docs = []\n",
    "\n",
    "# Iterate through the loaders and load documents into the 'docs' list\n",
    "for loader in loaders:\n",
    "    # Use the 'load' method of each loader to load documents and extend the 'docs' list\n",
    "    docs.extend(loader.load())"
   ]
  },
  {
   "cell_type": "markdown",
   "id": "4511192e-b605-4413-bf0c-127cd9bdeca5",
   "metadata": {
    "tags": []
   },
   "source": [
    "## Split Document"
   ]
  },
  {
   "cell_type": "markdown",
   "id": "a919a271-75aa-4072-979d-4293c7a18357",
   "metadata": {},
   "source": [
    "We split the texts/documents to facilitate the retrieval process, allowing it to retrieve only the relevant chunks based on the search parameters.\n",
    "\n",
    "Searching through, for example, a 1000-page document for a topic relevant to only 3 pages is counterproductive.\n",
    "\n",
    "This is why splitting is necessary to speed up the process and enhance the overall performance of the model while finding relationships between the relevant splits/chunks and using them to answer user prompts.\n",
    "\n",
    "Below is a visual representation of how Langchain accomplishes this."
   ]
  },
  {
   "cell_type": "code",
   "execution_count": 13,
   "id": "8ec8c3bb-cfcc-4d4f-bb0f-47c5950a3da4",
   "metadata": {},
   "outputs": [],
   "source": [
    "# Split the documents using the RecursiveCharacterTextSplitter\n",
    "# Specify the parameters for the split\n",
    "text_splitter = RecursiveCharacterTextSplitter(\n",
    "    # Define the size of each text chunk\n",
    "    chunk_size=1500,\n",
    "    \n",
    "    # Define the overlap between consecutive text chunks\n",
    "    chunk_overlap=150\n",
    ")"
   ]
  },
  {
   "cell_type": "code",
   "execution_count": 14,
   "id": "e01d04dd-c9bc-4fc6-86ce-1c8b59b06011",
   "metadata": {},
   "outputs": [],
   "source": [
    "splits = text_splitter.split_documents(docs)"
   ]
  },
  {
   "cell_type": "code",
   "execution_count": 15,
   "id": "65d41b43-610e-450c-9436-b60d2493d9ef",
   "metadata": {},
   "outputs": [
    {
     "data": {
      "text/plain": [
       "227"
      ]
     },
     "execution_count": 15,
     "metadata": {},
     "output_type": "execute_result"
    }
   ],
   "source": [
    "# Number of splits\n",
    "len(splits)"
   ]
  },
  {
   "cell_type": "code",
   "execution_count": 16,
   "id": "7c3f119a-e186-433c-9554-e6e14a494e1b",
   "metadata": {},
   "outputs": [],
   "source": [
    "# splits"
   ]
  },
  {
   "cell_type": "markdown",
   "id": "371b28d1-aacb-4801-96fb-fbdbfcdc60d8",
   "metadata": {
    "tags": []
   },
   "source": [
    "## Create Embeddings"
   ]
  },
  {
   "cell_type": "code",
   "execution_count": 17,
   "id": "1809737a-4848-4c44-a0c5-43d475eab1f6",
   "metadata": {},
   "outputs": [],
   "source": [
    "# Create text embeddings using the OpenAIEmbeddings class\n",
    "embedding = OpenAIEmbeddings(openai_api_key=api_key)"
   ]
  },
  {
   "cell_type": "code",
   "execution_count": 18,
   "id": "aefb5228-0fae-435e-98e8-c00a9b1aca95",
   "metadata": {},
   "outputs": [],
   "source": [
    "# Use the Chroma embedding vector database, to store the embeddings vectors\n",
    "# Define a permanent directory for the embeddings vectors\n",
    "persist_directory = 'docs/chroma/'"
   ]
  },
  {
   "cell_type": "code",
   "execution_count": 19,
   "id": "b730ad3e-2403-4670-990f-9fa82b8a06b5",
   "metadata": {},
   "outputs": [],
   "source": [
    "# # Create a Chroma vector store from a list of documents using the provided embedding\n",
    "# vectordb = Chroma.from_documents(\n",
    "#     # List of documents\n",
    "#     documents=splits,\n",
    "    \n",
    "#     # Embeddings model\n",
    "#     embedding=embedding,\n",
    "    \n",
    "#     # Directory for vector storage\n",
    "#     persist_directory=persist_directory  \n",
    "# )\n",
    "\n",
    "# Create a Chroma vector store with the specified persistence directory and embedding function\n",
    "vectordb = Chroma(persist_directory=persist_directory, embedding_function=embedding)"
   ]
  },
  {
   "cell_type": "code",
   "execution_count": 20,
   "id": "fb4fbc03-2267-46dd-bd0b-b55d00f60108",
   "metadata": {},
   "outputs": [
    {
     "name": "stdout",
     "output_type": "stream",
     "text": [
      "227\n"
     ]
    }
   ],
   "source": [
    "# Number of vectors in the vector store\n",
    "print(vectordb._collection.count())"
   ]
  },
  {
   "cell_type": "code",
   "execution_count": null,
   "id": "26317e34-4f4a-4665-ad84-ab7ff7d8cc67",
   "metadata": {},
   "outputs": [],
   "source": []
  },
  {
   "cell_type": "markdown",
   "id": "eda20083-982a-4ce8-86e1-b85045047732",
   "metadata": {
    "tags": []
   },
   "source": [
    "## Question Answering Retrieval Chain"
   ]
  },
  {
   "cell_type": "code",
   "execution_count": 21,
   "id": "8bd7e259-3287-46cb-8e03-254eafc4dda5",
   "metadata": {},
   "outputs": [],
   "source": [
    "# Create an instance of the ChatOpenAI class with specified parameters\n",
    "llm = ChatOpenAI(\n",
    "    # model name/version\n",
    "    model_name=\"gpt-3.5-turbo\",\n",
    "    \n",
    "    # API key\n",
    "    openai_api_key=api_key,\n",
    "    \n",
    "    # Set the temperature parameter to control response variability.\n",
    "    # Note Low variability gives high fidelity in answering questions.\n",
    "    temperature=0\n",
    ")"
   ]
  },
  {
   "cell_type": "code",
   "execution_count": 22,
   "id": "d89c60c3-1d2c-4c2d-a7e6-eea5cc003f55",
   "metadata": {},
   "outputs": [],
   "source": [
    "qa_chain = RetrievalQA.from_chain_type(\n",
    "    llm,\n",
    "    retriever=vectordb.as_retriever()\n",
    ")"
   ]
  },
  {
   "cell_type": "code",
   "execution_count": null,
   "id": "4847a102-bb91-4439-9a1b-8e2df4e78839",
   "metadata": {},
   "outputs": [],
   "source": []
  },
  {
   "cell_type": "markdown",
   "id": "f1e00e98-3d8e-4911-a6d4-97aa452cf9e2",
   "metadata": {
    "tags": []
   },
   "source": [
    "## Summarize text with GPT 3 using LangChain"
   ]
  },
  {
   "cell_type": "code",
   "execution_count": 23,
   "id": "27bdf934-1f65-483c-9c6d-f5a45e028f60",
   "metadata": {},
   "outputs": [
    {
     "data": {
      "text/plain": [
       "4"
      ]
     },
     "execution_count": 23,
     "metadata": {},
     "output_type": "execute_result"
    }
   ],
   "source": [
    "question = f\"\"\"\n",
    "Your task is to briefly provide an overall summary of the data,\n",
    "like a professional research assistant.\"\"\"\n",
    "\n",
    "# Performs a similarity search in the vector database (vectordb) to retrieve relevant splits.\n",
    "docs = vectordb.similarity_search(question)\n",
    "len(docs)"
   ]
  },
  {
   "cell_type": "code",
   "execution_count": 24,
   "id": "af591ca2-cc7b-4dc0-a4cc-58aa5b2f9bbb",
   "metadata": {},
   "outputs": [],
   "source": [
    "# Use the Question Answering (QA) chain (qa_chain) to query and obtain a result.\n",
    "result = qa_chain({\"query\": question})"
   ]
  },
  {
   "cell_type": "code",
   "execution_count": 25,
   "id": "8a39b155-e47a-4ed5-923a-d1373101b8ca",
   "metadata": {},
   "outputs": [
    {
     "data": {
      "text/plain": [
       "'This book provides a comprehensive guide on Big Data, its tools, and applications. It emphasizes the importance of involving industry experts in the development of curriculum and highlights the role of research in driving innovation. The book covers various topics such as data integration, forecasting principles and models, the application of Big Data in diagnosing diabetes, and the use of data mining techniques for satellite performance analysis and text mining in biomedicine and healthcare. It also offers guidance on how to use the book based on different roles, including students, software developers, teachers, members of the Board of Studies, and researchers. Overall, this book serves as a valuable resource for anyone interested in gaining a basic understanding of Big Data and its practical applications.'"
      ]
     },
     "execution_count": 25,
     "metadata": {},
     "output_type": "execute_result"
    }
   ],
   "source": [
    "# Extract and return the response from the result dictionary.\n",
    "result[\"result\"]"
   ]
  },
  {
   "cell_type": "code",
   "execution_count": null,
   "id": "d1fc2e75-426f-47b9-9dea-adca8a5f902c",
   "metadata": {},
   "outputs": [],
   "source": []
  },
  {
   "cell_type": "markdown",
   "id": "1e3ad2af-1821-41c5-b5db-52541ae077b7",
   "metadata": {
    "tags": []
   },
   "source": [
    "## Document Based Question Answering System\n",
    "\n",
    "Chat with you data."
   ]
  },
  {
   "cell_type": "markdown",
   "id": "62ce313b-676c-4b45-8cd0-5d59c06a2533",
   "metadata": {
    "tags": []
   },
   "source": [
    "### Prompt Function"
   ]
  },
  {
   "cell_type": "code",
   "execution_count": 26,
   "id": "d655e687-50da-4107-83d1-ebebb24cf558",
   "metadata": {},
   "outputs": [],
   "source": [
    "# Use LangChains' ConversationBufferMemory function to store conversations.\n",
    "memory = ConversationBufferMemory()"
   ]
  },
  {
   "cell_type": "code",
   "execution_count": 27,
   "id": "bdddf8d5-52d3-48c1-a989-73d705319e13",
   "metadata": {},
   "outputs": [],
   "source": [
    "def get_user_input():\n",
    "    user_input = []  # Initialize an empty list to store user input\n",
    "    \n",
    "    while True:\n",
    "        # Continuously ask for user input\n",
    "        print(\"\\033[1m\" + \"Ask a question ? (or type 'quit' to exit): \" + \"\\033[0m\")\n",
    "        # text = input(\"Ask a question ? (or type 'quit' to exit): \")\n",
    "        text = input()\n",
    "        print()\n",
    "        \n",
    "        # Check if the user wants to quit\n",
    "        if text.lower() == 'quit':\n",
    "            break  # Exit the loop if the user enters 'quit'\n",
    "        \n",
    "        # Get the response from openai's api using the qa_chain function    \n",
    "        else:\n",
    "            chatgpt_response = qa_chain({\"query\": text})\n",
    "            print(\"\\033[1m\" + \"ChatBot:\\n\" + \"\\033[0m\" + f\" {chatgpt_response['result']} \")\n",
    "            print()\n",
    "        \n",
    "        # Save the conversation using LangChains ConversationBufferMemory function\n",
    "        memory.save_context({\"input\": text}, {\"output\": chatgpt_response['result']})\n",
    "\n",
    "    return user_input"
   ]
  },
  {
   "cell_type": "code",
   "execution_count": 28,
   "id": "5d259a91-19ee-46a7-bf28-e54746482c38",
   "metadata": {},
   "outputs": [
    {
     "name": "stdout",
     "output_type": "stream",
     "text": [
      "\u001b[1mAsk a question ? (or type 'quit' to exit): \u001b[0m\n"
     ]
    },
    {
     "name": "stdin",
     "output_type": "stream",
     "text": [
      " What are five specific industries that have successfully adopted big data analytics, and what are the prominent use cases within each of these industries?\n"
     ]
    },
    {
     "name": "stdout",
     "output_type": "stream",
     "text": [
      "\n",
      "\u001b[1mChatBot:\n",
      "\u001b[0m Five specific industries that have successfully adopted big data analytics are:\n",
      "\n",
      "1. Banking and Securities:\n",
      "- Securities fraud early warning: Using big data analytics to detect and prevent fraudulent trading activities in financial markets.\n",
      "- Trade visibility: Analyzing large volumes of data to gain insights into trade patterns and market trends.\n",
      "- Customer data transformation: Utilizing big data analytics to transform customer data into actionable insights for personalized marketing and customer service.\n",
      "\n",
      "2. Government:\n",
      "- Energy exploration: Analyzing big data to identify potential energy sources and optimize energy production.\n",
      "- Fraud detection: Using big data analytics to detect and prevent fraudulent activities in public services, such as social disability claims.\n",
      "- Environmental protection: Leveraging big data to monitor and analyze environmental data for better decision-making and resource management.\n",
      "\n",
      "3. Retail:\n",
      "- Demand forecasting: Utilizing big data analytics to predict customer demand and optimize inventory management.\n",
      "- Customer segmentation: Analyzing customer data to identify different customer segments and personalize marketing strategies.\n",
      "- Sentiment analysis: Using big data analytics to analyze customer feedback and sentiment to improve product development and customer satisfaction.\n",
      "\n",
      "4. Healthcare Providers:\n",
      "- Clinical decision support: Using big data analytics to provide healthcare professionals with real-time insights and recommendations for diagnosis and treatment.\n",
      "- Disease surveillance: Analyzing large healthcare datasets to detect and monitor the spread of diseases and epidemics.\n",
      "- Personalized medicine: Leveraging big data analytics to analyze patient data and genetics for personalized treatment plans.\n",
      "\n",
      "5. Media and Entertainment:\n",
      "- Content recommendation: Using big data analytics to analyze user preferences and behavior to provide personalized content recommendations.\n",
      "- Content performance measurement: Analyzing big data to measure the performance and impact of content across different platforms.\n",
      "- Real-time sentiment analysis: Leveraging big data analytics to analyze social media data and sentiment during live events, such as sports matches or award shows.\n",
      "\n",
      "Please note that these are just a few examples, and there are many other industries and use cases where big data analytics have been successfully adopted. \n",
      "\n",
      "\u001b[1mAsk a question ? (or type 'quit' to exit): \u001b[0m\n"
     ]
    },
    {
     "name": "stdin",
     "output_type": "stream",
     "text": [
      " How does the utilization of big data analytics impact the efficiency, productivity, and competitiveness of companies within various industrial sectors?\n"
     ]
    },
    {
     "name": "stdout",
     "output_type": "stream",
     "text": [
      "\n",
      "\u001b[1mChatBot:\n",
      "\u001b[0m The utilization of big data analytics has a significant impact on the efficiency, productivity, and competitiveness of companies across various industrial sectors. Here are some specific ways in which it affects these areas:\n",
      "\n",
      "1. Efficiency: Big data analytics enables companies to streamline their operations and make data-driven decisions. By analyzing large volumes of data, companies can identify inefficiencies in their processes, optimize resource allocation, and reduce waste. This leads to improved operational efficiency and cost savings.\n",
      "\n",
      "2. Productivity: Big data analytics provides valuable insights that can enhance productivity. By analyzing data on employee performance, companies can identify areas for improvement and implement targeted training programs. Additionally, predictive analytics can help optimize production schedules, inventory management, and supply chain operations, leading to increased productivity.\n",
      "\n",
      "3. Competitiveness: Big data analytics gives companies a competitive edge by providing them with actionable insights and market intelligence. By analyzing customer data, companies can gain a deeper understanding of customer preferences, behavior, and trends, allowing them to tailor their products and services to meet customer needs effectively. This leads to improved customer satisfaction and loyalty, ultimately enhancing the company's competitiveness in the market.\n",
      "\n",
      "Overall, the utilization of big data analytics enables companies to make data-driven decisions, optimize operations, and gain a competitive advantage in their respective industries. \n",
      "\n",
      "\u001b[1mAsk a question ? (or type 'quit' to exit): \u001b[0m\n"
     ]
    },
    {
     "name": "stdin",
     "output_type": "stream",
     "text": [
      " What are the ethical and legal considerations associated with the use of big data in industrial applications, and how are organizations addressing issues related to data privacy, security, and compliance?\n"
     ]
    },
    {
     "name": "stdout",
     "output_type": "stream",
     "text": [
      "\n",
      "\u001b[1mChatBot:\n",
      "\u001b[0m The provided context does not specifically mention the ethical and legal considerations associated with the use of big data in industrial applications or how organizations are addressing issues related to data privacy, security, and compliance. Therefore, I don't have enough information to answer your question accurately. \n",
      "\n",
      "\u001b[1mAsk a question ? (or type 'quit' to exit): \u001b[0m\n"
     ]
    },
    {
     "name": "stdin",
     "output_type": "stream",
     "text": [
      " quit\n"
     ]
    },
    {
     "name": "stdout",
     "output_type": "stream",
     "text": [
      "\n"
     ]
    }
   ],
   "source": [
    "user_responses = get_user_input()"
   ]
  },
  {
   "cell_type": "markdown",
   "id": "e2e375ed-9a6e-4497-a2d9-7ebd0ab739f8",
   "metadata": {
    "tags": []
   },
   "source": [
    "### Display conversation history"
   ]
  },
  {
   "cell_type": "code",
   "execution_count": 29,
   "id": "44294f12-5c09-40fe-81e1-7c243febaff8",
   "metadata": {},
   "outputs": [
    {
     "data": {
      "text/plain": [
       "{'history': \"Human: What are five specific industries that have successfully adopted big data analytics, and what are the prominent use cases within each of these industries?\\nAI: Five specific industries that have successfully adopted big data analytics are:\\n\\n1. Banking and Securities:\\n- Securities fraud early warning: Using big data analytics to detect and prevent fraudulent trading activities in financial markets.\\n- Trade visibility: Analyzing large volumes of data to gain insights into trade patterns and market trends.\\n- Customer data transformation: Utilizing big data analytics to transform customer data into actionable insights for personalized marketing and customer service.\\n\\n2. Government:\\n- Energy exploration: Analyzing big data to identify potential energy sources and optimize energy production.\\n- Fraud detection: Using big data analytics to detect and prevent fraudulent activities in public services, such as social disability claims.\\n- Environmental protection: Leveraging big data to monitor and analyze environmental data for better decision-making and resource management.\\n\\n3. Retail:\\n- Demand forecasting: Utilizing big data analytics to predict customer demand and optimize inventory management.\\n- Customer segmentation: Analyzing customer data to identify different customer segments and personalize marketing strategies.\\n- Sentiment analysis: Using big data analytics to analyze customer feedback and sentiment to improve product development and customer satisfaction.\\n\\n4. Healthcare Providers:\\n- Clinical decision support: Using big data analytics to provide healthcare professionals with real-time insights and recommendations for diagnosis and treatment.\\n- Disease surveillance: Analyzing large healthcare datasets to detect and monitor the spread of diseases and epidemics.\\n- Personalized medicine: Leveraging big data analytics to analyze patient data and genetics for personalized treatment plans.\\n\\n5. Media and Entertainment:\\n- Content recommendation: Using big data analytics to analyze user preferences and behavior to provide personalized content recommendations.\\n- Content performance measurement: Analyzing big data to measure the performance and impact of content across different platforms.\\n- Real-time sentiment analysis: Leveraging big data analytics to analyze social media data and sentiment during live events, such as sports matches or award shows.\\n\\nPlease note that these are just a few examples, and there are many other industries and use cases where big data analytics have been successfully adopted.\\nHuman: How does the utilization of big data analytics impact the efficiency, productivity, and competitiveness of companies within various industrial sectors?\\nAI: The utilization of big data analytics has a significant impact on the efficiency, productivity, and competitiveness of companies across various industrial sectors. Here are some specific ways in which it affects these areas:\\n\\n1. Efficiency: Big data analytics enables companies to streamline their operations and make data-driven decisions. By analyzing large volumes of data, companies can identify inefficiencies in their processes, optimize resource allocation, and reduce waste. This leads to improved operational efficiency and cost savings.\\n\\n2. Productivity: Big data analytics provides valuable insights that can enhance productivity. By analyzing data on employee performance, companies can identify areas for improvement and implement targeted training programs. Additionally, predictive analytics can help optimize production schedules, inventory management, and supply chain operations, leading to increased productivity.\\n\\n3. Competitiveness: Big data analytics gives companies a competitive edge by providing them with actionable insights and market intelligence. By analyzing customer data, companies can gain a deeper understanding of customer preferences, behavior, and trends, allowing them to tailor their products and services to meet customer needs effectively. This leads to improved customer satisfaction and loyalty, ultimately enhancing the company's competitiveness in the market.\\n\\nOverall, the utilization of big data analytics enables companies to make data-driven decisions, optimize operations, and gain a competitive advantage in their respective industries.\\nHuman: What are the ethical and legal considerations associated with the use of big data in industrial applications, and how are organizations addressing issues related to data privacy, security, and compliance?\\nAI: The provided context does not specifically mention the ethical and legal considerations associated with the use of big data in industrial applications or how organizations are addressing issues related to data privacy, security, and compliance. Therefore, I don't have enough information to answer your question accurately.\"}"
      ]
     },
     "execution_count": 29,
     "metadata": {},
     "output_type": "execute_result"
    }
   ],
   "source": [
    "# Load memory\n",
    "memory.load_memory_variables({})"
   ]
  },
  {
   "cell_type": "code",
   "execution_count": 30,
   "id": "29b13dfd-85a1-4202-b47f-27ba065ba9fc",
   "metadata": {},
   "outputs": [
    {
     "name": "stdout",
     "output_type": "stream",
     "text": [
      "\n",
      "\n",
      "\u001b[1mHuman: What are five specific industries that have successfully adopted big data analytics, and what are the prominent use cases within each of these industries?\u001b[0m\n",
      "\n",
      "AI: Five specific industries that have successfully adopted big data analytics are:\n",
      "\n",
      "1. Banking and Securities:\n",
      "- Securities fraud early warning: Using big data analytics to detect and prevent fraudulent trading activities in financial markets.\n",
      "- Trade visibility: Analyzing large volumes of data to gain insights into trade patterns and market trends.\n",
      "- Customer data transformation: Utilizing big data analytics to transform customer data into actionable insights for personalized marketing and customer service.\n",
      "\n",
      "2. Government:\n",
      "- Energy exploration: Analyzing big data to identify potential energy sources and optimize energy production.\n",
      "- Fraud detection: Using big data analytics to detect and prevent fraudulent activities in public services, such as social disability claims.\n",
      "- Environmental protection: Leveraging big data to monitor and analyze environmental data for better decision-making and resource management.\n",
      "\n",
      "3. Retail:\n",
      "- Demand forecasting: Utilizing big data analytics to predict customer demand and optimize inventory management.\n",
      "- Customer segmentation: Analyzing customer data to identify different customer segments and personalize marketing strategies.\n",
      "- Sentiment analysis: Using big data analytics to analyze customer feedback and sentiment to improve product development and customer satisfaction.\n",
      "\n",
      "4. Healthcare Providers:\n",
      "- Clinical decision support: Using big data analytics to provide healthcare professionals with real-time insights and recommendations for diagnosis and treatment.\n",
      "- Disease surveillance: Analyzing large healthcare datasets to detect and monitor the spread of diseases and epidemics.\n",
      "- Personalized medicine: Leveraging big data analytics to analyze patient data and genetics for personalized treatment plans.\n",
      "\n",
      "5. Media and Entertainment:\n",
      "- Content recommendation: Using big data analytics to analyze user preferences and behavior to provide personalized content recommendations.\n",
      "- Content performance measurement: Analyzing big data to measure the performance and impact of content across different platforms.\n",
      "- Real-time sentiment analysis: Leveraging big data analytics to analyze social media data and sentiment during live events, such as sports matches or award shows.\n",
      "\n",
      "Please note that these are just a few examples, and there are many other industries and use cases where big data analytics have been successfully adopted.\n",
      "\n",
      "\n",
      "\u001b[1mHuman: How does the utilization of big data analytics impact the efficiency, productivity, and competitiveness of companies within various industrial sectors?\u001b[0m\n",
      "\n",
      "AI: The utilization of big data analytics has a significant impact on the efficiency, productivity, and competitiveness of companies across various industrial sectors. Here are some specific ways in which it affects these areas:\n",
      "\n",
      "1. Efficiency: Big data analytics enables companies to streamline their operations and make data-driven decisions. By analyzing large volumes of data, companies can identify inefficiencies in their processes, optimize resource allocation, and reduce waste. This leads to improved operational efficiency and cost savings.\n",
      "\n",
      "2. Productivity: Big data analytics provides valuable insights that can enhance productivity. By analyzing data on employee performance, companies can identify areas for improvement and implement targeted training programs. Additionally, predictive analytics can help optimize production schedules, inventory management, and supply chain operations, leading to increased productivity.\n",
      "\n",
      "3. Competitiveness: Big data analytics gives companies a competitive edge by providing them with actionable insights and market intelligence. By analyzing customer data, companies can gain a deeper understanding of customer preferences, behavior, and trends, allowing them to tailor their products and services to meet customer needs effectively. This leads to improved customer satisfaction and loyalty, ultimately enhancing the company's competitiveness in the market.\n",
      "\n",
      "Overall, the utilization of big data analytics enables companies to make data-driven decisions, optimize operations, and gain a competitive advantage in their respective industries.\n",
      "\n",
      "\n",
      "\u001b[1mHuman: What are the ethical and legal considerations associated with the use of big data in industrial applications, and how are organizations addressing issues related to data privacy, security, and compliance?\u001b[0m\n",
      "\n",
      "AI: The provided context does not specifically mention the ethical and legal considerations associated with the use of big data in industrial applications or how organizations are addressing issues related to data privacy, security, and compliance. Therefore, I don't have enough information to answer your question accurately.\n"
     ]
    }
   ],
   "source": [
    "# Load memory\n",
    "memory.load_memory_variables({})\n",
    "\n",
    "# Convert the conversation history dictionary to a well-formatted output\n",
    "\n",
    "input_text = str(memory.load_memory_variables({}))\n",
    "\n",
    "# Parse the input text as a dictionary\n",
    "history = ast.literal_eval(input_text)\n",
    "\n",
    "# Extract the conversation\n",
    "conversation = history['history']\n",
    "\n",
    "# Split the conversation into lines\n",
    "lines = conversation.split('\\n')\n",
    "\n",
    "# Iterate through the lines and format the conversation\n",
    "count = 0\n",
    "for line in lines:\n",
    "    if line.startswith('Human'):\n",
    "        print()\n",
    "        print()\n",
    "        print( \"\\033[1m\" + line + \"\\033[0m\")\n",
    "        print()\n",
    "        \n",
    "    else:\n",
    "        print(line)\n",
    "        \n",
    "    count += 1"
   ]
  },
  {
   "cell_type": "code",
   "execution_count": null,
   "id": "8fa9a289-9c51-4997-b192-bc282f6b9c63",
   "metadata": {},
   "outputs": [],
   "source": []
  }
 ],
 "metadata": {
  "kernelspec": {
   "display_name": "Python 3 (ipykernel)",
   "language": "python",
   "name": "python3"
  },
  "language_info": {
   "codemirror_mode": {
    "name": "ipython",
    "version": 3
   },
   "file_extension": ".py",
   "mimetype": "text/x-python",
   "name": "python",
   "nbconvert_exporter": "python",
   "pygments_lexer": "ipython3",
   "version": "3.9.13"
  }
 },
 "nbformat": 4,
 "nbformat_minor": 5
}
